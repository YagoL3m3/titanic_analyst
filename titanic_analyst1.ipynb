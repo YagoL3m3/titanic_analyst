{
  "cells": [
    {
      "cell_type": "markdown",
      "id": "63baa6ef",
      "metadata": {
        "id": "63baa6ef"
      },
      "source": [
        "# Titanic - Machine Learning from Disaster\n",
        "\n",
        "- Vamos utilizar os [dados disponíveis no Kaggle](https://www.kaggle.com/competitions/titanic)\n",
        "    - É um dataset de **competição**\n",
        "    - O resultado é avaliado através da **acurácia**:\n",
        "        - _\"Sua pontuação é a porcentagem de passageiros que você prevê corretamente. Isso é conhecido como acurácia.\"_"
      ]
    },
    {
      "cell_type": "markdown",
      "id": "0c68fded",
      "metadata": {
        "id": "0c68fded"
      },
      "source": [
        "### Começando a entender a base"
      ]
    },
    {
      "cell_type": "markdown",
      "id": "dd058abc",
      "metadata": {
        "id": "dd058abc"
      },
      "source": [
        "- **Podemos utilizar o ydata-profiling (antigo Pandas Profiling) para começar a entender essa base**\n",
        "    - https://github.com/ydataai/ydata-profiling"
      ]
    },
    {
      "cell_type": "code",
      "execution_count": 1,
      "id": "ca06f81f",
      "metadata": {
        "id": "ca06f81f"
      },
      "outputs": [],
      "source": [
        "# Importando o pandas\n",
        "import pandas as pd"
      ]
    },
    {
      "cell_type": "code",
      "execution_count": 2,
      "id": "3340d81a",
      "metadata": {
        "id": "3340d81a",
        "outputId": "43eff546-086c-4732-8e75-cf8c67cd9cfd"
      },
      "outputs": [
        {
          "data": {
            "text/html": [
              "<div>\n",
              "<style scoped>\n",
              "    .dataframe tbody tr th:only-of-type {\n",
              "        vertical-align: middle;\n",
              "    }\n",
              "\n",
              "    .dataframe tbody tr th {\n",
              "        vertical-align: top;\n",
              "    }\n",
              "\n",
              "    .dataframe thead th {\n",
              "        text-align: right;\n",
              "    }\n",
              "</style>\n",
              "<table border=\"1\" class=\"dataframe\">\n",
              "  <thead>\n",
              "    <tr style=\"text-align: right;\">\n",
              "      <th></th>\n",
              "      <th>PassengerId</th>\n",
              "      <th>Survived</th>\n",
              "      <th>Pclass</th>\n",
              "      <th>Name</th>\n",
              "      <th>Sex</th>\n",
              "      <th>Age</th>\n",
              "      <th>SibSp</th>\n",
              "      <th>Parch</th>\n",
              "      <th>Ticket</th>\n",
              "      <th>Fare</th>\n",
              "      <th>Cabin</th>\n",
              "      <th>Embarked</th>\n",
              "    </tr>\n",
              "  </thead>\n",
              "  <tbody>\n",
              "    <tr>\n",
              "      <th>0</th>\n",
              "      <td>1</td>\n",
              "      <td>0</td>\n",
              "      <td>3</td>\n",
              "      <td>Braund, Mr. Owen Harris</td>\n",
              "      <td>male</td>\n",
              "      <td>22.0</td>\n",
              "      <td>1</td>\n",
              "      <td>0</td>\n",
              "      <td>A/5 21171</td>\n",
              "      <td>7.2500</td>\n",
              "      <td>NaN</td>\n",
              "      <td>S</td>\n",
              "    </tr>\n",
              "    <tr>\n",
              "      <th>1</th>\n",
              "      <td>2</td>\n",
              "      <td>1</td>\n",
              "      <td>1</td>\n",
              "      <td>Cumings, Mrs. John Bradley (Florence Briggs Th...</td>\n",
              "      <td>female</td>\n",
              "      <td>38.0</td>\n",
              "      <td>1</td>\n",
              "      <td>0</td>\n",
              "      <td>PC 17599</td>\n",
              "      <td>71.2833</td>\n",
              "      <td>C85</td>\n",
              "      <td>C</td>\n",
              "    </tr>\n",
              "    <tr>\n",
              "      <th>2</th>\n",
              "      <td>3</td>\n",
              "      <td>1</td>\n",
              "      <td>3</td>\n",
              "      <td>Heikkinen, Miss. Laina</td>\n",
              "      <td>female</td>\n",
              "      <td>26.0</td>\n",
              "      <td>0</td>\n",
              "      <td>0</td>\n",
              "      <td>STON/O2. 3101282</td>\n",
              "      <td>7.9250</td>\n",
              "      <td>NaN</td>\n",
              "      <td>S</td>\n",
              "    </tr>\n",
              "  </tbody>\n",
              "</table>\n",
              "</div>"
            ],
            "text/plain": [
              "   PassengerId  Survived  Pclass  \\\n",
              "0            1         0       3   \n",
              "1            2         1       1   \n",
              "2            3         1       3   \n",
              "\n",
              "                                                Name     Sex   Age  SibSp  \\\n",
              "0                            Braund, Mr. Owen Harris    male  22.0      1   \n",
              "1  Cumings, Mrs. John Bradley (Florence Briggs Th...  female  38.0      1   \n",
              "2                             Heikkinen, Miss. Laina  female  26.0      0   \n",
              "\n",
              "   Parch            Ticket     Fare Cabin Embarked  \n",
              "0      0         A/5 21171   7.2500   NaN        S  \n",
              "1      0          PC 17599  71.2833   C85        C  \n",
              "2      0  STON/O2. 3101282   7.9250   NaN        S  "
            ]
          },
          "execution_count": 2,
          "metadata": {},
          "output_type": "execute_result"
        }
      ],
      "source": [
        "# Visualizando a base de treino\n",
        "treino = pd.read_csv('train.csv')\n",
        "treino.head(3)"
      ]
    },
    {
      "cell_type": "code",
      "execution_count": 3,
      "id": "038f93dd",
      "metadata": {
        "id": "038f93dd"
      },
      "outputs": [
        {
          "data": {
            "text/html": [
              "\n",
              "            <div>\n",
              "                <ins><a href=\"https://ydata.ai/register\">Upgrade to ydata-sdk</a></ins>\n",
              "                <p>\n",
              "                    Improve your data and profiling with ydata-sdk, featuring data quality scoring, redundancy detection, outlier identification, text validation, and synthetic data generation.\n",
              "                </p>\n",
              "            </div>\n",
              "            "
            ],
            "text/plain": [
              "<IPython.core.display.HTML object>"
            ]
          },
          "metadata": {},
          "output_type": "display_data"
        }
      ],
      "source": [
        "# Importando o ProfileReport do ydata-profiling\n",
        "from ydata_profiling import ProfileReport"
      ]
    },
    {
      "cell_type": "code",
      "execution_count": 4,
      "id": "c3ddf6be",
      "metadata": {
        "id": "c3ddf6be"
      },
      "outputs": [],
      "source": [
        "# Gerando a visualização\n",
        "profile = ProfileReport(treino, title=\"titanic_treino\")"
      ]
    },
    {
      "cell_type": "code",
      "execution_count": 5,
      "id": "e5572df9",
      "metadata": {
        "colab": {
          "referenced_widgets": [
            "fe1ab9c7a7754631b4e421e2f471c85a",
            "6877104566ab4fd78df70de5cb328ce5",
            "f4494a0bdda549778ab6dbe6d3290346",
            "426c604155dd4ca38204378c3d17db63"
          ]
        },
        "id": "e5572df9",
        "outputId": "3340a4f6-2e3d-4c34-dd86-f3d4c6f3465f"
      },
      "outputs": [
        {
          "data": {
            "application/vnd.jupyter.widget-view+json": {
              "model_id": "426862c255e04867a70cdaf693d4145f",
              "version_major": 2,
              "version_minor": 0
            },
            "text/plain": [
              "Summarize dataset:   0%|          | 0/5 [00:00<?, ?it/s]"
            ]
          },
          "metadata": {},
          "output_type": "display_data"
        },
        {
          "name": "stderr",
          "output_type": "stream",
          "text": [
            "100%|██████████| 12/12 [00:00<00:00, 466.42it/s]\n"
          ]
        },
        {
          "data": {
            "application/vnd.jupyter.widget-view+json": {
              "model_id": "b88a4517c56a45468f8ab8fe663d0053",
              "version_major": 2,
              "version_minor": 0
            },
            "text/plain": [
              "Generate report structure:   0%|          | 0/1 [00:00<?, ?it/s]"
            ]
          },
          "metadata": {},
          "output_type": "display_data"
        },
        {
          "data": {
            "application/vnd.jupyter.widget-view+json": {
              "model_id": "4846b7880d4d4defbf71663ae22abd12",
              "version_major": 2,
              "version_minor": 0
            },
            "text/plain": [
              "Render HTML:   0%|          | 0/1 [00:00<?, ?it/s]"
            ]
          },
          "metadata": {},
          "output_type": "display_data"
        },
        {
          "data": {
            "application/vnd.jupyter.widget-view+json": {
              "model_id": "28ad0b66e1b3466bb0cefc0f6a9565a4",
              "version_major": 2,
              "version_minor": 0
            },
            "text/plain": [
              "Export report to file:   0%|          | 0/1 [00:00<?, ?it/s]"
            ]
          },
          "metadata": {},
          "output_type": "display_data"
        }
      ],
      "source": [
        "# Criando o relatório\n",
        "profile.to_file(\"titanic_treino.html\")"
      ]
    },
    {
      "cell_type": "markdown",
      "id": "f3be84d2",
      "metadata": {
        "id": "f3be84d2"
      },
      "source": [
        "- **Agora vamos analisar essa base**"
      ]
    },
    {
      "cell_type": "code",
      "execution_count": 6,
      "id": "bc6de0a9",
      "metadata": {
        "id": "bc6de0a9",
        "outputId": "1a368471-5d82-43a3-c697-add65ab97855"
      },
      "outputs": [
        {
          "name": "stdout",
          "output_type": "stream",
          "text": [
            "<class 'pandas.core.frame.DataFrame'>\n",
            "RangeIndex: 891 entries, 0 to 890\n",
            "Data columns (total 12 columns):\n",
            " #   Column       Non-Null Count  Dtype  \n",
            "---  ------       --------------  -----  \n",
            " 0   PassengerId  891 non-null    int64  \n",
            " 1   Survived     891 non-null    int64  \n",
            " 2   Pclass       891 non-null    int64  \n",
            " 3   Name         891 non-null    object \n",
            " 4   Sex          891 non-null    object \n",
            " 5   Age          714 non-null    float64\n",
            " 6   SibSp        891 non-null    int64  \n",
            " 7   Parch        891 non-null    int64  \n",
            " 8   Ticket       891 non-null    object \n",
            " 9   Fare         891 non-null    float64\n",
            " 10  Cabin        204 non-null    object \n",
            " 11  Embarked     889 non-null    object \n",
            "dtypes: float64(2), int64(5), object(5)\n",
            "memory usage: 83.7+ KB\n"
          ]
        }
      ],
      "source": [
        "# Verificando as informações da base\n",
        "treino.info()"
      ]
    },
    {
      "cell_type": "code",
      "execution_count": 7,
      "id": "aca4334d",
      "metadata": {
        "id": "aca4334d",
        "outputId": "90755cbc-65e3-4400-be76-7c46e11afe27"
      },
      "outputs": [
        {
          "data": {
            "text/plain": [
              "int64      5\n",
              "object     5\n",
              "float64    2\n",
              "Name: count, dtype: int64"
            ]
          },
          "execution_count": 7,
          "metadata": {},
          "output_type": "execute_result"
        }
      ],
      "source": [
        "# Verificando o tipo dos dados\n",
        "treino.dtypes.value_counts()"
      ]
    },
    {
      "cell_type": "code",
      "execution_count": 8,
      "id": "279f17dc",
      "metadata": {
        "id": "279f17dc",
        "outputId": "3f4dfc9d-9f89-4c9d-f727-1a03e6017ea2"
      },
      "outputs": [
        {
          "data": {
            "text/plain": [
              "Cabin          687\n",
              "Age            177\n",
              "Embarked         2\n",
              "PassengerId      0\n",
              "Name             0\n",
              "dtype: int64"
            ]
          },
          "execution_count": 8,
          "metadata": {},
          "output_type": "execute_result"
        }
      ],
      "source": [
        "# E os valores nulos\n",
        "treino.isnull().sum().sort_values(ascending=False).head(5)"
      ]
    },
    {
      "cell_type": "markdown",
      "id": "b89509f7",
      "metadata": {
        "id": "b89509f7"
      },
      "source": [
        "- **Agora vamos visualizar a base de teste**"
      ]
    },
    {
      "cell_type": "code",
      "execution_count": 9,
      "id": "87c1caaa",
      "metadata": {
        "id": "87c1caaa",
        "outputId": "5c7a1c4d-035b-4d24-e321-390dec157f1c"
      },
      "outputs": [
        {
          "data": {
            "text/html": [
              "<div>\n",
              "<style scoped>\n",
              "    .dataframe tbody tr th:only-of-type {\n",
              "        vertical-align: middle;\n",
              "    }\n",
              "\n",
              "    .dataframe tbody tr th {\n",
              "        vertical-align: top;\n",
              "    }\n",
              "\n",
              "    .dataframe thead th {\n",
              "        text-align: right;\n",
              "    }\n",
              "</style>\n",
              "<table border=\"1\" class=\"dataframe\">\n",
              "  <thead>\n",
              "    <tr style=\"text-align: right;\">\n",
              "      <th></th>\n",
              "      <th>PassengerId</th>\n",
              "      <th>Pclass</th>\n",
              "      <th>Name</th>\n",
              "      <th>Sex</th>\n",
              "      <th>Age</th>\n",
              "      <th>SibSp</th>\n",
              "      <th>Parch</th>\n",
              "      <th>Ticket</th>\n",
              "      <th>Fare</th>\n",
              "      <th>Cabin</th>\n",
              "      <th>Embarked</th>\n",
              "    </tr>\n",
              "  </thead>\n",
              "  <tbody>\n",
              "    <tr>\n",
              "      <th>0</th>\n",
              "      <td>892</td>\n",
              "      <td>3</td>\n",
              "      <td>Kelly, Mr. James</td>\n",
              "      <td>male</td>\n",
              "      <td>34.5</td>\n",
              "      <td>0</td>\n",
              "      <td>0</td>\n",
              "      <td>330911</td>\n",
              "      <td>7.8292</td>\n",
              "      <td>NaN</td>\n",
              "      <td>Q</td>\n",
              "    </tr>\n",
              "    <tr>\n",
              "      <th>1</th>\n",
              "      <td>893</td>\n",
              "      <td>3</td>\n",
              "      <td>Wilkes, Mrs. James (Ellen Needs)</td>\n",
              "      <td>female</td>\n",
              "      <td>47.0</td>\n",
              "      <td>1</td>\n",
              "      <td>0</td>\n",
              "      <td>363272</td>\n",
              "      <td>7.0000</td>\n",
              "      <td>NaN</td>\n",
              "      <td>S</td>\n",
              "    </tr>\n",
              "    <tr>\n",
              "      <th>2</th>\n",
              "      <td>894</td>\n",
              "      <td>2</td>\n",
              "      <td>Myles, Mr. Thomas Francis</td>\n",
              "      <td>male</td>\n",
              "      <td>62.0</td>\n",
              "      <td>0</td>\n",
              "      <td>0</td>\n",
              "      <td>240276</td>\n",
              "      <td>9.6875</td>\n",
              "      <td>NaN</td>\n",
              "      <td>Q</td>\n",
              "    </tr>\n",
              "  </tbody>\n",
              "</table>\n",
              "</div>"
            ],
            "text/plain": [
              "   PassengerId  Pclass                              Name     Sex   Age  SibSp  \\\n",
              "0          892       3                  Kelly, Mr. James    male  34.5      0   \n",
              "1          893       3  Wilkes, Mrs. James (Ellen Needs)  female  47.0      1   \n",
              "2          894       2         Myles, Mr. Thomas Francis    male  62.0      0   \n",
              "\n",
              "   Parch  Ticket    Fare Cabin Embarked  \n",
              "0      0  330911  7.8292   NaN        Q  \n",
              "1      0  363272  7.0000   NaN        S  \n",
              "2      0  240276  9.6875   NaN        Q  "
            ]
          },
          "execution_count": 9,
          "metadata": {},
          "output_type": "execute_result"
        }
      ],
      "source": [
        "# Visualizando a base de teste\n",
        "teste = pd.read_csv('test.csv')\n",
        "teste.head(3)"
      ]
    },
    {
      "cell_type": "code",
      "execution_count": 10,
      "id": "d3ffcf9f",
      "metadata": {
        "id": "d3ffcf9f",
        "outputId": "edee2bde-690b-4a10-fd86-b2473110640d"
      },
      "outputs": [
        {
          "name": "stdout",
          "output_type": "stream",
          "text": [
            "<class 'pandas.core.frame.DataFrame'>\n",
            "RangeIndex: 418 entries, 0 to 417\n",
            "Data columns (total 11 columns):\n",
            " #   Column       Non-Null Count  Dtype  \n",
            "---  ------       --------------  -----  \n",
            " 0   PassengerId  418 non-null    int64  \n",
            " 1   Pclass       418 non-null    int64  \n",
            " 2   Name         418 non-null    object \n",
            " 3   Sex          418 non-null    object \n",
            " 4   Age          332 non-null    float64\n",
            " 5   SibSp        418 non-null    int64  \n",
            " 6   Parch        418 non-null    int64  \n",
            " 7   Ticket       418 non-null    object \n",
            " 8   Fare         417 non-null    float64\n",
            " 9   Cabin        91 non-null     object \n",
            " 10  Embarked     418 non-null    object \n",
            "dtypes: float64(2), int64(4), object(5)\n",
            "memory usage: 36.0+ KB\n"
          ]
        }
      ],
      "source": [
        "# Verificando as informações da base\n",
        "teste.info()"
      ]
    },
    {
      "cell_type": "code",
      "execution_count": 11,
      "id": "e5284e8e",
      "metadata": {
        "id": "e5284e8e",
        "outputId": "d4ec6874-6e1c-4808-c76f-4ad334592561"
      },
      "outputs": [
        {
          "data": {
            "text/plain": [
              "Cabin     327\n",
              "Age        86\n",
              "Fare        1\n",
              "Name        0\n",
              "Pclass      0\n",
              "dtype: int64"
            ]
          },
          "execution_count": 11,
          "metadata": {},
          "output_type": "execute_result"
        }
      ],
      "source": [
        "# Analisando os valores nulos\n",
        "teste.isnull().sum().sort_values(ascending=False).head(5)"
      ]
    },
    {
      "cell_type": "markdown",
      "id": "7ed073a4",
      "metadata": {
        "id": "7ed073a4"
      },
      "source": [
        "- Temos colunas que **possuem valores vazios na base de teste que não estão vazias na base de treino** (nesse caso, precisaríamos tratar essas colunas apenas na base de teste)"
      ]
    },
    {
      "cell_type": "markdown",
      "id": "fc72da86",
      "metadata": {
        "id": "fc72da86"
      },
      "source": [
        "### Realizando os tratamentos iniciais dos dados"
      ]
    },
    {
      "cell_type": "markdown",
      "id": "998c0129",
      "metadata": {
        "id": "998c0129"
      },
      "source": [
        "- **Podemos começar tratando os valores vazios**"
      ]
    },
    {
      "cell_type": "code",
      "execution_count": 12,
      "id": "7e4ba3b4",
      "metadata": {
        "id": "7e4ba3b4",
        "outputId": "1ef03931-b2ab-4895-ac8b-ff3716c97009",
        "scrolled": true
      },
      "outputs": [
        {
          "data": {
            "text/plain": [
              "Cabin          687\n",
              "Age            177\n",
              "Embarked         2\n",
              "PassengerId      0\n",
              "Name             0\n",
              "dtype: int64"
            ]
          },
          "execution_count": 12,
          "metadata": {},
          "output_type": "execute_result"
        }
      ],
      "source": [
        "# Verificando novamente valores vazios para a base de treino\n",
        "treino.isnull().sum().sort_values(ascending=False).head(5)"
      ]
    },
    {
      "cell_type": "code",
      "execution_count": 13,
      "id": "9aa2473b",
      "metadata": {
        "id": "9aa2473b",
        "outputId": "011262cc-e323-496d-c8b0-598a9bbf04f2"
      },
      "outputs": [
        {
          "data": {
            "text/plain": [
              "(891, 12)"
            ]
          },
          "execution_count": 13,
          "metadata": {},
          "output_type": "execute_result"
        }
      ],
      "source": [
        "# Retornando o shape da base\n",
        "treino.shape"
      ]
    },
    {
      "cell_type": "code",
      "execution_count": 14,
      "id": "ee403a62",
      "metadata": {
        "id": "ee403a62",
        "outputId": "b531c34e-6fb9-4477-b301-deae9fd00706"
      },
      "outputs": [
        {
          "data": {
            "text/html": [
              "<div>\n",
              "<style scoped>\n",
              "    .dataframe tbody tr th:only-of-type {\n",
              "        vertical-align: middle;\n",
              "    }\n",
              "\n",
              "    .dataframe tbody tr th {\n",
              "        vertical-align: top;\n",
              "    }\n",
              "\n",
              "    .dataframe thead th {\n",
              "        text-align: right;\n",
              "    }\n",
              "</style>\n",
              "<table border=\"1\" class=\"dataframe\">\n",
              "  <thead>\n",
              "    <tr style=\"text-align: right;\">\n",
              "      <th></th>\n",
              "      <th>PassengerId</th>\n",
              "      <th>Survived</th>\n",
              "      <th>Pclass</th>\n",
              "      <th>Name</th>\n",
              "      <th>Sex</th>\n",
              "      <th>Age</th>\n",
              "      <th>SibSp</th>\n",
              "      <th>Parch</th>\n",
              "      <th>Ticket</th>\n",
              "      <th>Fare</th>\n",
              "      <th>Cabin</th>\n",
              "      <th>Embarked</th>\n",
              "    </tr>\n",
              "  </thead>\n",
              "  <tbody>\n",
              "    <tr>\n",
              "      <th>0</th>\n",
              "      <td>1</td>\n",
              "      <td>0</td>\n",
              "      <td>3</td>\n",
              "      <td>Braund, Mr. Owen Harris</td>\n",
              "      <td>male</td>\n",
              "      <td>22.0</td>\n",
              "      <td>1</td>\n",
              "      <td>0</td>\n",
              "      <td>A/5 21171</td>\n",
              "      <td>7.2500</td>\n",
              "      <td>NaN</td>\n",
              "      <td>S</td>\n",
              "    </tr>\n",
              "    <tr>\n",
              "      <th>1</th>\n",
              "      <td>2</td>\n",
              "      <td>1</td>\n",
              "      <td>1</td>\n",
              "      <td>Cumings, Mrs. John Bradley (Florence Briggs Th...</td>\n",
              "      <td>female</td>\n",
              "      <td>38.0</td>\n",
              "      <td>1</td>\n",
              "      <td>0</td>\n",
              "      <td>PC 17599</td>\n",
              "      <td>71.2833</td>\n",
              "      <td>C85</td>\n",
              "      <td>C</td>\n",
              "    </tr>\n",
              "    <tr>\n",
              "      <th>2</th>\n",
              "      <td>3</td>\n",
              "      <td>1</td>\n",
              "      <td>3</td>\n",
              "      <td>Heikkinen, Miss. Laina</td>\n",
              "      <td>female</td>\n",
              "      <td>26.0</td>\n",
              "      <td>0</td>\n",
              "      <td>0</td>\n",
              "      <td>STON/O2. 3101282</td>\n",
              "      <td>7.9250</td>\n",
              "      <td>NaN</td>\n",
              "      <td>S</td>\n",
              "    </tr>\n",
              "    <tr>\n",
              "      <th>3</th>\n",
              "      <td>4</td>\n",
              "      <td>1</td>\n",
              "      <td>1</td>\n",
              "      <td>Futrelle, Mrs. Jacques Heath (Lily May Peel)</td>\n",
              "      <td>female</td>\n",
              "      <td>35.0</td>\n",
              "      <td>1</td>\n",
              "      <td>0</td>\n",
              "      <td>113803</td>\n",
              "      <td>53.1000</td>\n",
              "      <td>C123</td>\n",
              "      <td>S</td>\n",
              "    </tr>\n",
              "  </tbody>\n",
              "</table>\n",
              "</div>"
            ],
            "text/plain": [
              "   PassengerId  Survived  Pclass  \\\n",
              "0            1         0       3   \n",
              "1            2         1       1   \n",
              "2            3         1       3   \n",
              "3            4         1       1   \n",
              "\n",
              "                                                Name     Sex   Age  SibSp  \\\n",
              "0                            Braund, Mr. Owen Harris    male  22.0      1   \n",
              "1  Cumings, Mrs. John Bradley (Florence Briggs Th...  female  38.0      1   \n",
              "2                             Heikkinen, Miss. Laina  female  26.0      0   \n",
              "3       Futrelle, Mrs. Jacques Heath (Lily May Peel)  female  35.0      1   \n",
              "\n",
              "   Parch            Ticket     Fare Cabin Embarked  \n",
              "0      0         A/5 21171   7.2500   NaN        S  \n",
              "1      0          PC 17599  71.2833   C85        C  \n",
              "2      0  STON/O2. 3101282   7.9250   NaN        S  \n",
              "3      0            113803  53.1000  C123        S  "
            ]
          },
          "execution_count": 14,
          "metadata": {},
          "output_type": "execute_result"
        }
      ],
      "source": [
        "# Visualizando novamente a base\n",
        "treino.head(4)"
      ]
    },
    {
      "cell_type": "code",
      "execution_count": 15,
      "id": "1531f335",
      "metadata": {
        "id": "1531f335",
        "outputId": "8731261c-1f18-4791-b338-98d3238b356b"
      },
      "outputs": [
        {
          "data": {
            "text/plain": [
              "PassengerId    891\n",
              "Name           891\n",
              "Ticket         681\n",
              "Fare           248\n",
              "Cabin          147\n",
              "Age             88\n",
              "SibSp            7\n",
              "Parch            7\n",
              "Embarked         3\n",
              "Pclass           3\n",
              "Survived         2\n",
              "Sex              2\n",
              "dtype: int64"
            ]
          },
          "execution_count": 15,
          "metadata": {},
          "output_type": "execute_result"
        }
      ],
      "source": [
        "# Verificando a cardinalidade dos dados\n",
        "treino.nunique().sort_values(ascending=False)"
      ]
    },
    {
      "cell_type": "markdown",
      "id": "0888d08d",
      "metadata": {
        "id": "0888d08d"
      },
      "source": [
        "- Colunas com **alta cardinalidade** como nome, número do ticket e até mesmo o código da cabine não vão ajudar o modelo pois podem torná-lo **menos generalizável**. Nesse caso, vamos **eliminar essas colunas**"
      ]
    },
    {
      "cell_type": "code",
      "execution_count": 16,
      "id": "7c6e4f4a",
      "metadata": {
        "id": "7c6e4f4a"
      },
      "outputs": [],
      "source": [
        "# Eliminando para a base de treino\n",
        "treino = treino.drop(['Name','Ticket','Cabin'],axis=1)"
      ]
    },
    {
      "cell_type": "code",
      "execution_count": 17,
      "id": "c91bb2aa",
      "metadata": {
        "id": "c91bb2aa"
      },
      "outputs": [],
      "source": [
        "# Também eliminando para a base de teste\n",
        "teste = teste.drop(['Name','Ticket','Cabin'],axis=1)"
      ]
    },
    {
      "cell_type": "markdown",
      "id": "2b6a791d",
      "metadata": {
        "id": "2b6a791d"
      },
      "source": [
        "- Agora precisamos tratar a coluna **Age**, que possui valores vazios tanto no treino quanto no teste\n",
        "    - Como essa coluna possui a idade dos passageiros, podemos utilizar a **média das idades** para substituir os valores vazios"
      ]
    },
    {
      "cell_type": "code",
      "execution_count": 18,
      "id": "f79e19b3",
      "metadata": {
        "id": "f79e19b3",
        "outputId": "dfc341e8-e95d-4453-9821-40a0d906b2cd"
      },
      "outputs": [
        {
          "data": {
            "text/plain": [
              "np.float64(29.69911764705882)"
            ]
          },
          "execution_count": 18,
          "metadata": {},
          "output_type": "execute_result"
        }
      ],
      "source": [
        "# Verificando a média das idades para a base de treino\n",
        "treino.Age.mean()"
      ]
    },
    {
      "cell_type": "code",
      "execution_count": 19,
      "id": "8de59f02",
      "metadata": {
        "id": "8de59f02"
      },
      "outputs": [],
      "source": [
        "# Podemos agora selecionar as colunas com idade vazia e substituir por essa média\n",
        "treino.loc[treino.Age.isnull(),'Age'] = treino.Age.mean()"
      ]
    },
    {
      "cell_type": "code",
      "execution_count": 20,
      "id": "e05e69c1",
      "metadata": {
        "id": "e05e69c1"
      },
      "outputs": [],
      "source": [
        "# E fazendo o mesmo para a base de teste\n",
        "teste.loc[teste.Age.isnull(),'Age'] = teste.Age.mean()"
      ]
    },
    {
      "cell_type": "markdown",
      "id": "ea6c07a7",
      "metadata": {
        "id": "ea6c07a7"
      },
      "source": [
        "- Para a base de treino, ainda temos 2 valores vazios na coluna **Embarked**\n",
        "    - Podemos verificar todos os valores nessa coluna e substituir os valores vazios pela **moda**"
      ]
    },
    {
      "cell_type": "code",
      "execution_count": 21,
      "id": "600aa621",
      "metadata": {
        "id": "600aa621",
        "outputId": "569dc77a-4184-430a-8cc5-19bf5ea33d92"
      },
      "outputs": [
        {
          "data": {
            "text/plain": [
              "Embarked\n",
              "S    644\n",
              "C    168\n",
              "Q     77\n",
              "Name: count, dtype: int64"
            ]
          },
          "execution_count": 21,
          "metadata": {},
          "output_type": "execute_result"
        }
      ],
      "source": [
        "# Verificando os valores na coluna Embarked\n",
        "treino.Embarked.value_counts()"
      ]
    },
    {
      "cell_type": "code",
      "execution_count": 22,
      "id": "867b73d7",
      "metadata": {
        "id": "867b73d7",
        "outputId": "6eb24ae8-aec5-4ca4-b92b-157473a72745"
      },
      "outputs": [
        {
          "data": {
            "text/plain": [
              "'S'"
            ]
          },
          "execution_count": 22,
          "metadata": {},
          "output_type": "execute_result"
        }
      ],
      "source": [
        "# Selecionando a moda dessa coluna\n",
        "treino.Embarked.mode()[0]"
      ]
    },
    {
      "cell_type": "code",
      "execution_count": 23,
      "id": "775ae7f6",
      "metadata": {
        "id": "775ae7f6"
      },
      "outputs": [],
      "source": [
        "# Substituindo os valores vazios\n",
        "treino.loc[treino.Embarked.isnull(),'Embarked'] = treino.Embarked.mode()[0]"
      ]
    },
    {
      "cell_type": "markdown",
      "id": "befa930a",
      "metadata": {
        "id": "befa930a"
      },
      "source": [
        "- Para finalizar, para a base de teste ainda temos 1 valor vazio em **Fare**\n",
        "    - Podemos utilizar a mesma lógica que fizemos para a coluna Age e substituir pela **moda**"
      ]
    },
    {
      "cell_type": "code",
      "execution_count": 24,
      "id": "dcff7247",
      "metadata": {
        "id": "dcff7247"
      },
      "outputs": [],
      "source": [
        "# Verificando a média da coluna Fare para a base de teste\n",
        "teste.loc[teste.Fare.isnull(),'Fare'] = teste.Fare.mean()"
      ]
    },
    {
      "cell_type": "markdown",
      "id": "7558e543",
      "metadata": {
        "id": "7558e543"
      },
      "source": [
        "- **Verificando novamente os valores vazios**"
      ]
    },
    {
      "cell_type": "code",
      "execution_count": 25,
      "id": "dff8d3d5",
      "metadata": {
        "id": "dff8d3d5",
        "outputId": "8a3f4f96-d25d-4284-ba9e-f2c77916af2b"
      },
      "outputs": [
        {
          "data": {
            "text/plain": [
              "PassengerId    0\n",
              "Survived       0\n",
              "Pclass         0\n",
              "Sex            0\n",
              "Age            0\n",
              "dtype: int64"
            ]
          },
          "execution_count": 25,
          "metadata": {},
          "output_type": "execute_result"
        }
      ],
      "source": [
        "# Para a base de treino\n",
        "treino.isnull().sum().sort_values(ascending=False).head(5)"
      ]
    },
    {
      "cell_type": "code",
      "execution_count": 26,
      "id": "0369a986",
      "metadata": {
        "id": "0369a986",
        "outputId": "93df9339-69ff-4eb7-c43c-6f0a5003a8c3"
      },
      "outputs": [
        {
          "data": {
            "text/plain": [
              "PassengerId    0\n",
              "Pclass         0\n",
              "Sex            0\n",
              "Age            0\n",
              "SibSp          0\n",
              "dtype: int64"
            ]
          },
          "execution_count": 26,
          "metadata": {},
          "output_type": "execute_result"
        }
      ],
      "source": [
        "# Para a base de teste\n",
        "teste.isnull().sum().sort_values(ascending=False).head(5)"
      ]
    },
    {
      "cell_type": "markdown",
      "id": "ef81eda3",
      "metadata": {
        "id": "ef81eda3"
      },
      "source": [
        "### Considerando apenas as colunas que não são de texto"
      ]
    },
    {
      "cell_type": "code",
      "execution_count": 27,
      "id": "ffbf4a5c",
      "metadata": {
        "id": "ffbf4a5c",
        "outputId": "fc9da023-2aad-40d3-888b-3bb52176bd06"
      },
      "outputs": [
        {
          "data": {
            "text/plain": [
              "Index(['PassengerId', 'Survived', 'Pclass', 'Age', 'SibSp', 'Parch', 'Fare'], dtype='object')"
            ]
          },
          "execution_count": 27,
          "metadata": {},
          "output_type": "execute_result"
        }
      ],
      "source": [
        "# Verificando as colunas de texto na base de treino\n",
        "col_treino_nr = treino.columns[treino.dtypes != 'object']\n",
        "col_treino_nr"
      ]
    },
    {
      "cell_type": "code",
      "execution_count": 28,
      "id": "f5ce9e75",
      "metadata": {
        "id": "f5ce9e75"
      },
      "outputs": [],
      "source": [
        "# Selecionando apenas os valores numéricos da base de treino\n",
        "treino_nr = treino.loc[:,col_treino_nr]"
      ]
    },
    {
      "cell_type": "code",
      "execution_count": 29,
      "id": "ec8de66e",
      "metadata": {
        "id": "ec8de66e",
        "outputId": "c2339318-0e7b-4e23-91ef-0e072baf82b5"
      },
      "outputs": [
        {
          "data": {
            "text/plain": [
              "Index(['PassengerId', 'Pclass', 'Age', 'SibSp', 'Parch', 'Fare'], dtype='object')"
            ]
          },
          "execution_count": 29,
          "metadata": {},
          "output_type": "execute_result"
        }
      ],
      "source": [
        "# E para a base de teste\n",
        "col_teste_nr = teste.columns[teste.dtypes != 'object']\n",
        "col_teste_nr"
      ]
    },
    {
      "cell_type": "code",
      "execution_count": 30,
      "id": "674d37b1",
      "metadata": {
        "id": "674d37b1"
      },
      "outputs": [],
      "source": [
        "# e os valores numéricos da base de teste\n",
        "teste_nr = teste.loc[:,col_teste_nr]"
      ]
    },
    {
      "cell_type": "markdown",
      "id": "82b1af18",
      "metadata": {
        "id": "82b1af18"
      },
      "source": [
        "### Podemos agora selecionar um modelo para classificar esses dados\n",
        "- Para começar, vamos testar entre:\n",
        "    - **Árvore de classificação**\n",
        "        - https://scikit-learn.org/stable/modules/tree.html#classification\n",
        "    - **Classificação dos vizinhos mais próximos**\n",
        "        - https://scikit-learn.org/stable/modules/generated/sklearn.neighbors.KNeighborsClassifier.html#sklearn.neighbors.KNeighborsClassifier\n",
        "    - **Regressão Logística**\n",
        "        - https://scikit-learn.org/stable/modules/generated/sklearn.linear_model.LogisticRegression.html#sklearn.linear_model.LogisticRegression"
      ]
    },
    {
      "cell_type": "markdown",
      "id": "5ae2ee76",
      "metadata": {
        "id": "5ae2ee76"
      },
      "source": [
        "- Antes de usar os algoritmos, precisamos separar a base de treino em **treino e validação**\n",
        "    - Vamos fazer isso utilizando o **train_test_split**\n",
        "        - https://scikit-learn.org/stable/modules/generated/sklearn.model_selection.train_test_split.html"
      ]
    },
    {
      "cell_type": "code",
      "execution_count": 31,
      "id": "769a8cba",
      "metadata": {
        "id": "769a8cba"
      },
      "outputs": [],
      "source": [
        "# Importando o train_test_split\n",
        "from sklearn.model_selection import train_test_split"
      ]
    },
    {
      "cell_type": "code",
      "execution_count": 32,
      "id": "17dafbcf",
      "metadata": {
        "id": "17dafbcf"
      },
      "outputs": [],
      "source": [
        "# Separando a base de treino em X e y\n",
        "X = treino_nr.drop(['PassengerId','Survived'],axis=1)\n",
        "y = treino.Survived"
      ]
    },
    {
      "cell_type": "code",
      "execution_count": 33,
      "id": "54bfceae",
      "metadata": {
        "id": "54bfceae"
      },
      "outputs": [],
      "source": [
        "# Separando em treino e validação\n",
        "X_train, X_val, y_train, y_val = train_test_split(X, y, test_size=0.33, random_state=42)"
      ]
    },
    {
      "cell_type": "markdown",
      "id": "267172c2",
      "metadata": {
        "id": "267172c2"
      },
      "source": [
        "- Para a **árvore de classificação**"
      ]
    },
    {
      "cell_type": "code",
      "execution_count": 34,
      "id": "33f1d741",
      "metadata": {
        "id": "33f1d741"
      },
      "outputs": [],
      "source": [
        "# Fazendo a importação\n",
        "from sklearn import tree"
      ]
    },
    {
      "cell_type": "code",
      "execution_count": 35,
      "id": "954b1f36",
      "metadata": {
        "id": "954b1f36"
      },
      "outputs": [],
      "source": [
        "# Criando o classificador\n",
        "clf_ac = tree.DecisionTreeClassifier(random_state=42)"
      ]
    },
    {
      "cell_type": "code",
      "execution_count": 36,
      "id": "cb3734c7",
      "metadata": {
        "id": "cb3734c7"
      },
      "outputs": [],
      "source": [
        "# Fazendo o fit com os dados\n",
        "clf_ac = clf_ac.fit(X_train,y_train)"
      ]
    },
    {
      "cell_type": "code",
      "execution_count": 37,
      "id": "78852919",
      "metadata": {
        "id": "78852919"
      },
      "outputs": [],
      "source": [
        "# Fazendo a previsão\n",
        "y_pred_ac = clf_ac.predict(X_val)"
      ]
    },
    {
      "cell_type": "markdown",
      "id": "dc19b4e5",
      "metadata": {
        "id": "dc19b4e5"
      },
      "source": [
        "- Para o **KNeighborsClassifier**"
      ]
    },
    {
      "cell_type": "code",
      "execution_count": 38,
      "id": "f9f971e7",
      "metadata": {
        "id": "f9f971e7"
      },
      "outputs": [],
      "source": [
        "# Importando\n",
        "from sklearn.neighbors import KNeighborsClassifier"
      ]
    },
    {
      "cell_type": "code",
      "execution_count": 39,
      "id": "da8a904f",
      "metadata": {
        "id": "da8a904f"
      },
      "outputs": [],
      "source": [
        "# Criando o classificador\n",
        "clf_knn = KNeighborsClassifier(n_neighbors=3)"
      ]
    },
    {
      "cell_type": "code",
      "execution_count": 40,
      "id": "de05cae2",
      "metadata": {
        "id": "de05cae2"
      },
      "outputs": [],
      "source": [
        "# Fazendo o fit com os dados\n",
        "clf_knn = clf_knn.fit(X_train,y_train)"
      ]
    },
    {
      "cell_type": "code",
      "execution_count": 41,
      "id": "3caac52c",
      "metadata": {
        "id": "3caac52c"
      },
      "outputs": [],
      "source": [
        "# Fazendo a previsão\n",
        "y_pred_knn = clf_knn.predict(X_val)"
      ]
    },
    {
      "cell_type": "markdown",
      "id": "749c3fe8",
      "metadata": {
        "id": "749c3fe8"
      },
      "source": [
        "- E para a **Regressão Logística**"
      ]
    },
    {
      "cell_type": "code",
      "execution_count": 42,
      "id": "45b3b211",
      "metadata": {
        "id": "45b3b211"
      },
      "outputs": [],
      "source": [
        "# Importando\n",
        "from sklearn.linear_model import LogisticRegression"
      ]
    },
    {
      "cell_type": "code",
      "execution_count": 43,
      "id": "948fc8bd",
      "metadata": {
        "id": "948fc8bd"
      },
      "outputs": [],
      "source": [
        "# Criando o classificador\n",
        "clf_rl = LogisticRegression(random_state=42)"
      ]
    },
    {
      "cell_type": "code",
      "execution_count": 44,
      "id": "c2014d6d",
      "metadata": {
        "id": "c2014d6d"
      },
      "outputs": [],
      "source": [
        "# Fazendo o fit com os dados\n",
        "clf_rl = clf_rl.fit(X_train,y_train)"
      ]
    },
    {
      "cell_type": "code",
      "execution_count": 45,
      "id": "8e878605",
      "metadata": {
        "id": "8e878605"
      },
      "outputs": [],
      "source": [
        "# Fazendo a previsão\n",
        "y_pred_rl = clf_rl.predict(X_val)"
      ]
    },
    {
      "cell_type": "markdown",
      "id": "a9176a1c",
      "metadata": {
        "id": "a9176a1c"
      },
      "source": [
        "### E, para finalizar, vamos avaliar esses modelos\n",
        "- Para fazer essa análise, podemos usar:\n",
        "    - Acurácia (método de avaliação usado na competição):\n",
        "        - https://scikit-learn.org/stable/modules/generated/sklearn.metrics.accuracy_score.html\n",
        "    - Matriz de confusão (ajuda a visualizar a distribuição dos erros):\n",
        "        - https://scikit-learn.org/stable/modules/generated/sklearn.metrics.confusion_matrix.html"
      ]
    },
    {
      "cell_type": "markdown",
      "id": "6df51415",
      "metadata": {
        "id": "6df51415"
      },
      "source": [
        "- Avaliando a **acurácia**"
      ]
    },
    {
      "cell_type": "code",
      "execution_count": 46,
      "id": "a5b05922",
      "metadata": {
        "id": "a5b05922"
      },
      "outputs": [],
      "source": [
        "# Importando\n",
        "from sklearn.metrics import accuracy_score"
      ]
    },
    {
      "cell_type": "code",
      "execution_count": 47,
      "id": "e30194eb",
      "metadata": {
        "id": "e30194eb",
        "outputId": "448d86b6-0687-4f4a-cf88-01b19ecf153d"
      },
      "outputs": [
        {
          "data": {
            "text/plain": [
              "0.6169491525423729"
            ]
          },
          "execution_count": 47,
          "metadata": {},
          "output_type": "execute_result"
        }
      ],
      "source": [
        "# Para a árvore\n",
        "accuracy_score(y_val, y_pred_ac)"
      ]
    },
    {
      "cell_type": "code",
      "execution_count": 48,
      "id": "48ab9f2b",
      "metadata": {
        "id": "48ab9f2b",
        "outputId": "c910550f-48f3-4507-d7c7-e5ea12b178df"
      },
      "outputs": [
        {
          "data": {
            "text/plain": [
              "0.6542372881355932"
            ]
          },
          "execution_count": 48,
          "metadata": {},
          "output_type": "execute_result"
        }
      ],
      "source": [
        "# Para o knn\n",
        "accuracy_score(y_val, y_pred_knn)"
      ]
    },
    {
      "cell_type": "code",
      "execution_count": 49,
      "id": "0a47a83e",
      "metadata": {
        "id": "0a47a83e",
        "outputId": "14df2c42-fbda-4769-e2ac-6af575015b6c"
      },
      "outputs": [
        {
          "data": {
            "text/plain": [
              "0.7254237288135593"
            ]
          },
          "execution_count": 49,
          "metadata": {},
          "output_type": "execute_result"
        }
      ],
      "source": [
        "# Para a regressão logística\n",
        "accuracy_score(y_val, y_pred_rl)"
      ]
    },
    {
      "cell_type": "markdown",
      "id": "75f1463d",
      "metadata": {
        "id": "75f1463d"
      },
      "source": [
        "- Avaliando a **matriz de confusão**"
      ]
    },
    {
      "cell_type": "code",
      "execution_count": 50,
      "id": "93e0460f",
      "metadata": {
        "id": "93e0460f"
      },
      "outputs": [],
      "source": [
        "# Importando\n",
        "from sklearn.metrics import confusion_matrix"
      ]
    },
    {
      "cell_type": "code",
      "execution_count": 51,
      "id": "5cde2465",
      "metadata": {
        "id": "5cde2465",
        "outputId": "fd7cec5a-fc84-482b-f348-5a56abc095cc"
      },
      "outputs": [
        {
          "data": {
            "text/plain": [
              "array([[125,  50],\n",
              "       [ 63,  57]])"
            ]
          },
          "execution_count": 51,
          "metadata": {},
          "output_type": "execute_result"
        }
      ],
      "source": [
        "# Para a árvore\n",
        "confusion_matrix(y_val, y_pred_ac)"
      ]
    },
    {
      "cell_type": "code",
      "execution_count": 52,
      "id": "8e83d4d9",
      "metadata": {
        "id": "8e83d4d9",
        "outputId": "b9b90e38-194d-4e51-9eee-20600ed9f30e"
      },
      "outputs": [
        {
          "data": {
            "text/plain": [
              "array([[133,  42],\n",
              "       [ 60,  60]])"
            ]
          },
          "execution_count": 52,
          "metadata": {},
          "output_type": "execute_result"
        }
      ],
      "source": [
        "# Para o knn\n",
        "confusion_matrix(y_val, y_pred_knn)"
      ]
    },
    {
      "cell_type": "code",
      "execution_count": 53,
      "id": "b3f4499b",
      "metadata": {
        "id": "b3f4499b",
        "outputId": "f157cab5-7225-432d-f694-7e11d289ceb2"
      },
      "outputs": [
        {
          "data": {
            "text/plain": [
              "array([[156,  19],\n",
              "       [ 62,  58]])"
            ]
          },
          "execution_count": 53,
          "metadata": {},
          "output_type": "execute_result"
        }
      ],
      "source": [
        "# Para a regressão logística\n",
        "confusion_matrix(y_val, y_pred_rl)"
      ]
    },
    {
      "cell_type": "markdown",
      "id": "70fb0198",
      "metadata": {
        "id": "70fb0198"
      },
      "source": [
        "### Fazendo a previsão para os dados de teste\n",
        "- Vamos usar o modelo com melhor precisão para fazer o predict na base de teste"
      ]
    },
    {
      "cell_type": "code",
      "execution_count": 54,
      "id": "e2661e59",
      "metadata": {
        "id": "e2661e59",
        "outputId": "0914772c-bd0e-4524-80fa-c42e539734d2"
      },
      "outputs": [
        {
          "data": {
            "text/html": [
              "<div>\n",
              "<style scoped>\n",
              "    .dataframe tbody tr th:only-of-type {\n",
              "        vertical-align: middle;\n",
              "    }\n",
              "\n",
              "    .dataframe tbody tr th {\n",
              "        vertical-align: top;\n",
              "    }\n",
              "\n",
              "    .dataframe thead th {\n",
              "        text-align: right;\n",
              "    }\n",
              "</style>\n",
              "<table border=\"1\" class=\"dataframe\">\n",
              "  <thead>\n",
              "    <tr style=\"text-align: right;\">\n",
              "      <th></th>\n",
              "      <th>Pclass</th>\n",
              "      <th>Age</th>\n",
              "      <th>SibSp</th>\n",
              "      <th>Parch</th>\n",
              "      <th>Fare</th>\n",
              "    </tr>\n",
              "  </thead>\n",
              "  <tbody>\n",
              "    <tr>\n",
              "      <th>6</th>\n",
              "      <td>1</td>\n",
              "      <td>54.000000</td>\n",
              "      <td>0</td>\n",
              "      <td>0</td>\n",
              "      <td>51.8625</td>\n",
              "    </tr>\n",
              "    <tr>\n",
              "      <th>718</th>\n",
              "      <td>3</td>\n",
              "      <td>29.699118</td>\n",
              "      <td>0</td>\n",
              "      <td>0</td>\n",
              "      <td>15.5000</td>\n",
              "    </tr>\n",
              "    <tr>\n",
              "      <th>685</th>\n",
              "      <td>2</td>\n",
              "      <td>25.000000</td>\n",
              "      <td>1</td>\n",
              "      <td>2</td>\n",
              "      <td>41.5792</td>\n",
              "    </tr>\n",
              "  </tbody>\n",
              "</table>\n",
              "</div>"
            ],
            "text/plain": [
              "     Pclass        Age  SibSp  Parch     Fare\n",
              "6         1  54.000000      0      0  51.8625\n",
              "718       3  29.699118      0      0  15.5000\n",
              "685       2  25.000000      1      2  41.5792"
            ]
          },
          "execution_count": 54,
          "metadata": {},
          "output_type": "execute_result"
        }
      ],
      "source": [
        "# Visualizando o X_train\n",
        "X_train.head(3)"
      ]
    },
    {
      "cell_type": "code",
      "execution_count": 55,
      "id": "3be47ba2",
      "metadata": {
        "id": "3be47ba2",
        "outputId": "e22c82b0-42ba-4675-f9ec-3550723ab91f"
      },
      "outputs": [
        {
          "data": {
            "text/html": [
              "<div>\n",
              "<style scoped>\n",
              "    .dataframe tbody tr th:only-of-type {\n",
              "        vertical-align: middle;\n",
              "    }\n",
              "\n",
              "    .dataframe tbody tr th {\n",
              "        vertical-align: top;\n",
              "    }\n",
              "\n",
              "    .dataframe thead th {\n",
              "        text-align: right;\n",
              "    }\n",
              "</style>\n",
              "<table border=\"1\" class=\"dataframe\">\n",
              "  <thead>\n",
              "    <tr style=\"text-align: right;\">\n",
              "      <th></th>\n",
              "      <th>PassengerId</th>\n",
              "      <th>Pclass</th>\n",
              "      <th>Age</th>\n",
              "      <th>SibSp</th>\n",
              "      <th>Parch</th>\n",
              "      <th>Fare</th>\n",
              "    </tr>\n",
              "  </thead>\n",
              "  <tbody>\n",
              "    <tr>\n",
              "      <th>0</th>\n",
              "      <td>892</td>\n",
              "      <td>3</td>\n",
              "      <td>34.5</td>\n",
              "      <td>0</td>\n",
              "      <td>0</td>\n",
              "      <td>7.8292</td>\n",
              "    </tr>\n",
              "    <tr>\n",
              "      <th>1</th>\n",
              "      <td>893</td>\n",
              "      <td>3</td>\n",
              "      <td>47.0</td>\n",
              "      <td>1</td>\n",
              "      <td>0</td>\n",
              "      <td>7.0000</td>\n",
              "    </tr>\n",
              "    <tr>\n",
              "      <th>2</th>\n",
              "      <td>894</td>\n",
              "      <td>2</td>\n",
              "      <td>62.0</td>\n",
              "      <td>0</td>\n",
              "      <td>0</td>\n",
              "      <td>9.6875</td>\n",
              "    </tr>\n",
              "  </tbody>\n",
              "</table>\n",
              "</div>"
            ],
            "text/plain": [
              "   PassengerId  Pclass   Age  SibSp  Parch    Fare\n",
              "0          892       3  34.5      0      0  7.8292\n",
              "1          893       3  47.0      1      0  7.0000\n",
              "2          894       2  62.0      0      0  9.6875"
            ]
          },
          "execution_count": 55,
          "metadata": {},
          "output_type": "execute_result"
        }
      ],
      "source": [
        "# Visualizando a base de teste (apenas com valores numéricos)\n",
        "teste_nr.head(3)"
      ]
    },
    {
      "cell_type": "code",
      "execution_count": 56,
      "id": "4f130a33",
      "metadata": {
        "id": "4f130a33"
      },
      "outputs": [],
      "source": [
        "# Para a base de teste ser igual a base de treino, precisamos eliminar a coluna de id\n",
        "X_teste = teste_nr.drop(\"PassengerId\",axis=1)"
      ]
    },
    {
      "cell_type": "code",
      "execution_count": 57,
      "id": "a88ce180",
      "metadata": {
        "id": "a88ce180"
      },
      "outputs": [],
      "source": [
        "# Utilizando a regressão logística na base de teste\n",
        "y_pred = clf_rl.predict(X_teste)"
      ]
    },
    {
      "cell_type": "code",
      "execution_count": 58,
      "id": "f600d8e0",
      "metadata": {
        "id": "f600d8e0"
      },
      "outputs": [],
      "source": [
        "# Criando uma nova coluna com a previsão na base de teste\n",
        "teste['Survived'] = y_pred"
      ]
    },
    {
      "cell_type": "code",
      "execution_count": 59,
      "id": "a7f24559",
      "metadata": {
        "id": "a7f24559"
      },
      "outputs": [],
      "source": [
        "# Selecionando apenas a coluna de Id e Survived para fazer o envio\n",
        "base_envio = teste[['PassengerId','Survived']]"
      ]
    },
    {
      "cell_type": "code",
      "execution_count": 60,
      "id": "ced64242",
      "metadata": {
        "id": "ced64242"
      },
      "outputs": [],
      "source": [
        "# Exportando para um csv\n",
        "base_envio.to_csv('resultados1.csv',index=False)"
      ]
    }
  ],
  "metadata": {
    "colab": {
      "provenance": []
    },
    "kernelspec": {
      "display_name": "Python 3",
      "language": "python",
      "name": "python3"
    },
    "language_info": {
      "codemirror_mode": {
        "name": "ipython",
        "version": 3
      },
      "file_extension": ".py",
      "mimetype": "text/x-python",
      "name": "python",
      "nbconvert_exporter": "python",
      "pygments_lexer": "ipython3",
      "version": "3.11.0"
    }
  },
  "nbformat": 4,
  "nbformat_minor": 5
}
